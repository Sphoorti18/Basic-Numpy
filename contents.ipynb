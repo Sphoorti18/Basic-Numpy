{
 "cells": [
  {
   "cell_type": "markdown",
   "metadata": {},
   "source": [
    "# BASIC CONCEPTS\n",
    "\n",
    "## LANGUAGES\n",
    "∑ = {a,b}\n",
    "∑^* = {λ, ab, aaaab, ba, babaa, aaabb, ....}\n",
    "L = {l1 : l1 ⊆ ∑^*}\n",
    "L^c == ∑^* - {L} {Complement of a Language}\n",
    "L^R == {w^R | w ∈ L^R} (String reversal)\n",
    "L1 * L2 == {x*y : x ∈ L1 and y ∈ L2} (String concatenation)\n",
    "L^n == {∑ L^i : 0 <= i <= n <= + ∞}\n",
    "∑^(+) = ∑^* - {λ}\n",
    "∑^(+) = {ab, aaaab, ba, babaa, aaabb, ....}\n",
    "w^0 = { λ | w == string variable, l = magnitude of w == 0 }\n",
    "\n",
    "## PROOFS USING MATHEMATICAL INDUCTION\n",
    "w = {u*v | u == prefix and v == suffix}\n",
    "u = {λ, a, ab, abb, abba, abbab} and v = {bbab, bab, ab, b, abbab, λ}\n",
    "\n",
    "### Lemma 1: |u*v| == |u|+|v|\n",
    "Proof 1: u = {l1 : l1 == magnitude of prefix u} and u = {l2 : l2 == magnitude of suffix v}\n",
    "Base case : P(k==0) is true\n",
    "          |λ1 * λ2| == |λ1| + |λ2|\n",
    "            |0 * 0| == |0| + |0|\n",
    "            |0^2|   == 2 * |0|\n",
    "                |0| == 2 * |0|\n",
    "                  0 == 2 * 0\n",
    "                  0 == 0 \n",
    "              Hence proved, :)\n",
    "\n",
    "Assumption case : P(k) is true\n",
    "           |k * k| == |k| + |k|\n",
    "             |k^2| == 2 * |k|\n",
    "               k^2 == 2*k\n",
    "               0^2 == 2 * 0, (From Base Case)\n",
    "                  0 == 0 \n",
    "              Hence proved, :)\n",
    "\n",
    "Induction case : P(k+1)\n",
    "       |(k+1) * (k+1)| == |k+1| + |k+1|\n",
    "             |(k+1)^2| == 2 * |k+1|\n",
    "                   k^2 == 2*k, (From Assumption Case)\n",
    "                   0^2 == 2 * 0, (From Base Case)\n",
    "                     0 == 0 \n",
    "\n",
    "## GRAMMARS\n",
    "<sentence> ==> <noun phrase> <action/predicate/verb> ==> <article> <name> <verb>\n",
    "G = (V,T,S,P)\n",
    "V = Variables denoted by UpperCase Letters\n",
    "T = Terminals denoted by LowerCase Letters \n",
    "S = Start variable\n",
    "P = Productions/rules\n",
    "x => y\n",
    "w = { u*x*v | u = prefix and v = suffix }\n",
    "w_1 ==>* w_n (MULTIPLE TRANSITIONS)\n",
    "\n",
    "## AUTOMATON / MACHINE (M/C)\n",
    "An automaton is an abstract model of a digital computer.\n",
    "\n",
    " I/P file     |-----------|      O/P \n",
    "------------> | Automaton | -------------\n",
    "              |-----------|"
   ]
  },
  {
   "cell_type": "markdown",
   "metadata": {},
   "source": [
    "### THE END ;);)"
   ]
  }
 ],
 "metadata": {
  "kernelspec": {
   "display_name": "Python 3",
   "language": "python",
   "name": "python3"
  },
  "language_info": {
   "codemirror_mode": {
    "name": "ipython",
    "version": 3
   },
   "file_extension": ".py",
   "mimetype": "text/x-python",
   "name": "python",
   "nbconvert_exporter": "python",
   "pygments_lexer": "ipython3",
   "version": "3.8.5"
  }
 },
 "nbformat": 4,
 "nbformat_minor": 4
}
